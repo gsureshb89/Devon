{
  "cells": [
    {
      "cell_type": "code",
      "execution_count": null,
      "metadata": {
        "id": "TqhVuipwsqxI"
      },
      "outputs": [],
      "source": [
        "# For tips on running notebooks in Google Colab, see\n",
        "# https://pytorch.org/tutorials/beginner/colab\n",
        "%matplotlib inline"
      ]
    },
    {
      "cell_type": "markdown",
      "metadata": {
        "id": "FxRcLW2dsqxM"
      },
      "source": [
        "**Learn the Basics** \\|\\| [Quickstart](quickstart_tutorial.html) \\|\\|\n",
        "[Tensors](tensorqs_tutorial.html) \\|\\| [Datasets &\n",
        "DataLoaders](data_tutorial.html) \\|\\|\n",
        "[Transforms](transforms_tutorial.html) \\|\\| [Build\n",
        "Model](buildmodel_tutorial.html) \\|\\|\n",
        "[Autograd](autogradqs_tutorial.html) \\|\\|\n",
        "[Optimization](optimization_tutorial.html) \\|\\| [Save & Load\n",
        "Model](saveloadrun_tutorial.html)\n",
        "\n",
        "Learn the Basics\n",
        "================\n",
        "\n",
        "Authors: [Suraj Subramanian](https://github.com/subramen), [Seth\n",
        "Juarez](https://github.com/sethjuarez/), [Cassie\n",
        "Breviu](https://github.com/cassiebreviu/), [Dmitry\n",
        "Soshnikov](https://soshnikov.com/), [Ari\n",
        "Bornstein](https://github.com/aribornstein/)\n",
        "\n",
        "Most machine learning workflows involve working with data, creating\n",
        "models, optimizing model parameters, and saving the trained models. This\n",
        "tutorial introduces you to a complete ML workflow implemented in\n",
        "PyTorch, with links to learn more about each of these concepts.\n",
        "\n",
        "We\\'ll use the FashionMNIST dataset to train a neural network that\n",
        "predicts if an input image belongs to one of the following classes:\n",
        "T-shirt/top, Trouser, Pullover, Dress, Coat, Sandal, Shirt, Sneaker,\n",
        "Bag, or Ankle boot.\n",
        "\n",
        "[This tutorial assumes a basic familiarity with Python and Deep Learning\n",
        "concepts.]{.title-ref}\n",
        "\n",
        "Running the Tutorial Code\n",
        "-------------------------\n",
        "\n",
        "You can run this tutorial in a couple of ways:\n",
        "\n",
        "-   **In the cloud**: This is the easiest way to get started! Each\n",
        "    section has a \\\"Run in Microsoft Learn\\\" and \\\"Run in Google Colab\\\"\n",
        "    link at the top, which opens an integrated notebook in Microsoft\n",
        "    Learn or Google Colab, respectively, with the code in a fully-hosted\n",
        "    environment.\n",
        "-   **Locally**: This option requires you to setup PyTorch and\n",
        "    TorchVision first on your local machine ([installation\n",
        "    instructions](https://pytorch.org/get-started/locally/)). Download\n",
        "    the notebook or copy the code into your favorite IDE.\n",
        "\n",
        "How to Use this Guide\n",
        "---------------------\n",
        "\n",
        "If you\\'re familiar with other deep learning frameworks, check out the\n",
        "[0. Quickstart](quickstart_tutorial.html) first to quickly familiarize\n",
        "yourself with PyTorch\\'s API.\n",
        "\n",
        "If you\\'re new to deep learning frameworks, head right into the first\n",
        "section of our step-by-step guide: [1. Tensors](tensor_tutorial.html).\n",
        "\n",
        "::: {.toctree maxdepth=\"2\" hidden=\"\"}\n",
        "quickstart\\_tutorial tensorqs\\_tutorial data\\_tutorial\n",
        "transforms\\_tutorial buildmodel\\_tutorial autogradqs\\_tutorial\n",
        "optimization\\_tutorial saveloadrun\\_tutorial\n",
        ":::\n"
      ]
    },
    {
      "cell_type": "code",
      "source": [
        "import torch\n",
        "tn=torch.ones(2,3)\n",
        "torch.sqrt(tn)\n",
        "torch.sum(tn).item()\n",
        "torch.mean(tn)\n",
        "torch.max(tn)\n",
        "tn @ tn.T\n",
        "tn * tn\n",
        "torch.exp(tn)\n",
        "torch.sin(tn)\n",
        "torch.matmul(tn, tn.T)\n",
        "torch.eq(tn, tn)\n",
        "torch.where(tn<0.5,1,2)\n",
        "tn.add_(2)\n",
        "tn\n",
        "torch.matmul(tn, tn.T)\n",
        "tn.view(6)\n",
        "tn[:,1]\n",
        "tn.reshape(3,2)\n",
        "torch.cat((tn,tn), dim=0)\n",
        "torch.cat((tn,tn), dim=1)\n",
        "torch.split(tn,2)\n",
        "\n",
        "x=torch.ones(3,3, requires_grad=True)\n",
        "print(x)\n",
        "y=x+2\n",
        "z=y*y*3\n",
        "out=z.mean()\n",
        "out\n",
        "out.backward()\n",
        "x.grad"
      ],
      "metadata": {
        "id": "fQ-BrlVpsr5g",
        "outputId": "afbace80-65b7-4dee-b6db-9738f58de57e",
        "colab": {
          "base_uri": "https://localhost:8080/"
        }
      },
      "execution_count": 54,
      "outputs": [
        {
          "output_type": "stream",
          "name": "stdout",
          "text": [
            "tensor([[1., 1., 1.],\n",
            "        [1., 1., 1.],\n",
            "        [1., 1., 1.]], requires_grad=True)\n"
          ]
        },
        {
          "output_type": "execute_result",
          "data": {
            "text/plain": [
              "tensor([[2., 2., 2.],\n",
              "        [2., 2., 2.],\n",
              "        [2., 2., 2.]])"
            ]
          },
          "metadata": {},
          "execution_count": 54
        }
      ]
    },
    {
      "cell_type": "code",
      "source": [
        "import torch\n",
        "import torch.nn as nn\n",
        "import torch.optim as optim\n",
        "model = nn.Linear(10, 1)\n",
        "criterian = nn.MSELoss()\n",
        "optimizer = optim.SGD(model.parameters(), lr=0.01)\n",
        "# dir(nn)\n",
        "inputs = torch.rand(64,10)\n",
        "targets = torch.rand(64, 1)\n",
        "\n",
        "outputs = model(inputs)\n",
        "loss = criterian(outputs, targets)\n",
        "loss.backward()\n",
        "optimizer.step()\n",
        "optimizer.zero_grad()\n",
        "\n",
        "outputs"
      ],
      "metadata": {
        "collapsed": true,
        "id": "_ACBboG79S0H",
        "outputId": "26913941-99f8-4a8f-940b-623dc0bd2f53",
        "colab": {
          "base_uri": "https://localhost:8080/"
        }
      },
      "execution_count": 84,
      "outputs": [
        {
          "output_type": "execute_result",
          "data": {
            "text/plain": [
              "tensor([[-0.1112],\n",
              "        [ 0.1307],\n",
              "        [ 0.2470],\n",
              "        [-0.0829],\n",
              "        [ 0.0377],\n",
              "        [-0.0230],\n",
              "        [-0.0785],\n",
              "        [ 0.0865],\n",
              "        [ 0.1348],\n",
              "        [ 0.0619],\n",
              "        [-0.1859],\n",
              "        [ 0.0767],\n",
              "        [ 0.0081],\n",
              "        [-0.2460],\n",
              "        [-0.0201],\n",
              "        [-0.1682],\n",
              "        [-0.1256],\n",
              "        [ 0.0580],\n",
              "        [-0.0377],\n",
              "        [ 0.0178],\n",
              "        [ 0.1653],\n",
              "        [-0.0375],\n",
              "        [-0.2233],\n",
              "        [ 0.2875],\n",
              "        [ 0.1800],\n",
              "        [-0.1073],\n",
              "        [ 0.2486],\n",
              "        [-0.1675],\n",
              "        [-0.3484],\n",
              "        [-0.2581],\n",
              "        [ 0.2007],\n",
              "        [-0.2445],\n",
              "        [-0.0410],\n",
              "        [-0.1027],\n",
              "        [-0.1849],\n",
              "        [ 0.0016],\n",
              "        [ 0.0979],\n",
              "        [-0.3675],\n",
              "        [ 0.1467],\n",
              "        [-0.0642],\n",
              "        [ 0.0560],\n",
              "        [-0.2267],\n",
              "        [-0.1414],\n",
              "        [-0.2704],\n",
              "        [ 0.1008],\n",
              "        [-0.1734],\n",
              "        [-0.0107],\n",
              "        [ 0.2302],\n",
              "        [-0.3435],\n",
              "        [-0.2089],\n",
              "        [-0.1362],\n",
              "        [-0.0285],\n",
              "        [-0.3056],\n",
              "        [ 0.0262],\n",
              "        [ 0.1917],\n",
              "        [-0.2108],\n",
              "        [-0.0688],\n",
              "        [-0.2079],\n",
              "        [ 0.0419],\n",
              "        [-0.1378],\n",
              "        [-0.0262],\n",
              "        [-0.1813],\n",
              "        [ 0.0833],\n",
              "        [-0.1054]], grad_fn=<AddmmBackward0>)"
            ]
          },
          "metadata": {},
          "execution_count": 84
        }
      ]
    },
    {
      "cell_type": "code",
      "source": [
        "import torch\n",
        "import torch.nn as nn\n",
        "\n",
        "\n",
        "class SimpleNetwork(nn.Module):\n",
        "  def __init__(self):\n",
        "    super(SimpleNetwork, self).__init__()\n",
        "    self.fc1 = nn.Linear(10, 5)\n",
        "    self.fc2 = nn.Linear(5, 3)\n",
        "\n",
        "  def forward(self, x):\n",
        "    x = torch.relu(self.fc1(x))\n",
        "    return self.fc2(x)\n",
        "\n",
        "model = SimpleNetwork()\n",
        "x = torch.randn(1, 10, requires_grad=True)\n",
        "output = model(x)\n",
        "output"
      ],
      "metadata": {
        "id": "y5bNdwZFEM5i",
        "outputId": "87e911a8-455d-402f-e808-6c9277974133",
        "colab": {
          "base_uri": "https://localhost:8080/"
        }
      },
      "execution_count": 90,
      "outputs": [
        {
          "output_type": "execute_result",
          "data": {
            "text/plain": [
              "tensor([[ 0.2822, -0.1459, -0.4327]], grad_fn=<AddmmBackward0>)"
            ]
          },
          "metadata": {},
          "execution_count": 90
        }
      ]
    },
    {
      "cell_type": "code",
      "source": [
        "import torch\n",
        "import torch.nn as nn\n",
        "import torch.optim as optim\n",
        "import torch.nn.functional as F\n",
        "from torchvision import datasets, transforms\n",
        "\n",
        "transform = transforms.ToTensor()\n",
        "train_data = datasets.MNIST(\n",
        "    root='data',\n",
        "    train=True,\n",
        "    transform=transform,\n",
        "    download=True\n",
        ")\n",
        "test_data = datasets.MNIST(\n",
        "    root='data',\n",
        "    train=False,\n",
        "    transform=transform,\n",
        "    download=True\n",
        ")\n",
        "\n",
        "train_loader = torch.utils.data.DataLoader(train_data, batch_size=64, shuffle=True)\n",
        "test_loader = torch.utils.data.DataLoader(test_data, batch_size=1000, shuffle=False)\n",
        "\n",
        "class CNN(nn.Module):\n",
        "  def __init__(self):\n",
        "    super(CNN, self).__init__()\n",
        "    self.conv1 = nn.Conv2d(1, 10, kernel_size=5)\n",
        "    self.conv2 = nn.Conv2d(10, 20, kernel_size=5)\n",
        "    self.fc1 = nn.Linear(320, 50)\n",
        "    self.fc2 = nn.Linear(50, 10)\n",
        "\n",
        "  def forward(self, x):\n",
        "    x = F.relu(F.max_pool2d(self.conv1(x), 2))\n",
        "    x = F.relu(F.max_pool2d(self.conv2(x), 2))\n",
        "    x = x.view(-1, 320)\n",
        "    x = F.relu(self.fc1(x))\n",
        "    x = self.fc2(x)\n",
        "    return F.log_softmax(x, dim=1)\n",
        "\n",
        "device = torch.device(\"cpu\" if torch.cuda.is_available else \"cpu\")\n",
        "model = CNN().to(device)\n",
        "optimizer = optim.Adam(model.parameters(), lr=0.001)\n",
        "loss_fn = nn.CrossEntropyLoss()\n",
        "\n",
        "for epoch in range(1, 6):\n",
        "  model.train()\n",
        "  for batch_idx, (data, target) in enumerate(train_loader):\n",
        "    data, target = data.to(device), target.to(device)\n",
        "    optimizer.zero_grad()\n",
        "    output = model(data)\n",
        "    loss = loss_fn(output, target)\n",
        "    loss.backward()\n",
        "    optimizer.step()\n",
        "  print(\"Epoch {epoch} complete\")\n",
        "\n",
        "model.eval()\n",
        "correct = 0\n",
        "with torch.no_grad():\n",
        "  for data, target in test_loader:\n",
        "    data, target = data.to(device), target.to(device)\n",
        "    output = model(data)\n",
        "    pred = output.argmax(dim=1)\n",
        "    correct += pred.eq(target).sum().item()\n",
        "print(f\"Test accuracy {correct/len(test_loader.dataset):.2%}\")\n",
        "\n",
        "\n",
        "\n",
        "#dir(nn)\n",
        "#help(nn.Conv2d)"
      ],
      "metadata": {
        "collapsed": true,
        "id": "X-sj2Ej9NKU4",
        "outputId": "7c213868-4654-4041-aa0b-0293a72b90af",
        "colab": {
          "base_uri": "https://localhost:8080/"
        }
      },
      "execution_count": 8,
      "outputs": [
        {
          "output_type": "stream",
          "name": "stdout",
          "text": [
            "Epoch {epoch} complete\n",
            "Epoch {epoch} complete\n",
            "Epoch {epoch} complete\n",
            "Epoch {epoch} complete\n",
            "Epoch {epoch} complete\n",
            "Test accuracy 98.70%\n"
          ]
        }
      ]
    }
  ],
  "metadata": {
    "kernelspec": {
      "display_name": "Python 3",
      "language": "python",
      "name": "python3"
    },
    "language_info": {
      "codemirror_mode": {
        "name": "ipython",
        "version": 3
      },
      "file_extension": ".py",
      "mimetype": "text/x-python",
      "name": "python",
      "nbconvert_exporter": "python",
      "pygments_lexer": "ipython3",
      "version": "3.10.12"
    },
    "colab": {
      "provenance": []
    }
  },
  "nbformat": 4,
  "nbformat_minor": 0
}